{
 "cells": [
  {
   "cell_type": "markdown",
   "metadata": {},
   "source": [
    "Will Albert  \n",
    "DSSA5102 Gathering & Warehousing  \n",
    "Pure Python vs. Python w/Pandas"
   ]
  },
  {
   "cell_type": "markdown",
   "metadata": {},
   "source": [
    "## Pure Python"
   ]
  },
  {
   "cell_type": "code",
   "execution_count": 1,
   "metadata": {},
   "outputs": [],
   "source": [
    "#open and read in the data\n",
    "with open (\"userssharedsdfschoolimprovement2010grants.csv\", \"r\") as f:\n",
    "    data = f.readlines()"
   ]
  },
  {
   "cell_type": "code",
   "execution_count": 2,
   "metadata": {},
   "outputs": [],
   "source": [
    "#list comprehension\n",
    "#remove \"new line\" characters\n",
    "#zip original 3 lines per record into single line per record\n",
    "#adds each record to \"records\" list\n",
    "records = [(x+y+z).replace(\"\\n\",\"\") for x,y,z in zip(data[1::3], data[2::3], data[3::3])]"
   ]
  },
  {
   "cell_type": "code",
   "execution_count": 5,
   "metadata": {},
   "outputs": [],
   "source": [
    "#define \"amounts\" as list\n",
    "amounts = []\n",
    "\n",
    "#loop through records for selected location and split by \",\" to create fields\n",
    "for record in records:\n",
    "    if \"PHILADELPHIA CITY SD\" in record:\n",
    "        fields = record.split(\",\")\n",
    "        \n",
    "        #select field containing amounts        \n",
    "        amount = float(fields[4][1:]) #select all but first character and define as float\n",
    "        \n",
    "        #add data from amount field to amounts list\n",
    "        amounts.append(amount)"
   ]
  },
  {
   "cell_type": "code",
   "execution_count": 14,
   "metadata": {},
   "outputs": [
    {
     "name": "stdout",
     "output_type": "stream",
     "text": [
      "Number of Schools =  27\n",
      "Minimum =  1.0\n",
      "Maximum =  980283.0\n",
      "Mean =  555936.52\n",
      "Standard Dev. =  288151.68\n"
     ]
    }
   ],
   "source": [
    "#calculate desired statistics\n",
    "n = len(amounts) #number of records\n",
    "low = min(amounts) #minimum amount\n",
    "high = max(amounts) #maximum amount\n",
    "mean = sum(amounts)/n #mean amount\n",
    "ss = sum((i-mean)**2 for i in amounts) #sum of squares to calculate standard deviation\n",
    "sd = (ss/(n-1))**0.5 #standard deviation\n",
    "\n",
    "print(\"Number of Schools = \", n)\n",
    "print(\"Minimum = \", low)\n",
    "print(\"Maximum = \", high)\n",
    "print(\"Mean = \", round(mean, 2))\n",
    "print(\"Standard Dev. = \", round(sd, 2))"
   ]
  },
  {
   "cell_type": "markdown",
   "metadata": {},
   "source": [
    "## Python with Pandas"
   ]
  },
  {
   "cell_type": "code",
   "execution_count": 9,
   "metadata": {},
   "outputs": [],
   "source": [
    "import pandas as pd\n",
    "#read data into pandas dataframe\n",
    "df = pd.read_csv(\"userssharedsdfschoolimprovement2010grants.csv\")"
   ]
  },
  {
   "cell_type": "code",
   "execution_count": 11,
   "metadata": {},
   "outputs": [],
   "source": [
    "philly = df[df['District Name'] == \"PHILADELPHIA CITY SD\"] #select district\n",
    "amt = pd.to_numeric(philly[\"2010/11/Award Amount\"].str.replace(\"$\", \"\")) #define amount as numeric"
   ]
  },
  {
   "cell_type": "code",
   "execution_count": 13,
   "metadata": {},
   "outputs": [
    {
     "name": "stdout",
     "output_type": "stream",
     "text": [
      "Number of schools = 27\n",
      "Maximum = 980283.0\n",
      "Minimum = 1.0\n",
      "Mean = 555936.52\n",
      "Standard Deviation = 288151.68\n"
     ]
    }
   ],
   "source": [
    "#calculate statistics\n",
    "n2 = amt.count()\n",
    "high2 = amt.max()\n",
    "low2 = amt.min()\n",
    "mean2 = amt.mean()\n",
    "sd2 = amt.std()\n",
    "\n",
    "print(\"Number of schools =\", n2)\n",
    "print(\"Maximum =\", high2)\n",
    "print(\"Minimum =\", low2)\n",
    "print(\"Mean =\", round(mean2, 2))\n",
    "print(\"Standard Deviation =\", round(sd2, 2))"
   ]
  },
  {
   "cell_type": "code",
   "execution_count": null,
   "metadata": {},
   "outputs": [],
   "source": []
  }
 ],
 "metadata": {
  "kernelspec": {
   "display_name": "Python 3",
   "language": "python",
   "name": "python3"
  },
  "language_info": {
   "codemirror_mode": {
    "name": "ipython",
    "version": 3
   },
   "file_extension": ".py",
   "mimetype": "text/x-python",
   "name": "python",
   "nbconvert_exporter": "python",
   "pygments_lexer": "ipython3",
   "version": "3.7.0"
  }
 },
 "nbformat": 4,
 "nbformat_minor": 2
}
